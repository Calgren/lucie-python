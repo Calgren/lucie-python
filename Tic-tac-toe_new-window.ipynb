{
 "cells": [
  {
   "cell_type": "code",
   "execution_count": 2,
   "id": "2c66cde5",
   "metadata": {},
   "outputs": [
    {
     "name": "stdout",
     "output_type": "stream",
     "text": [
      "Collecting pygame\n",
      "  Downloading pygame-2.1.2-cp39-cp39-macosx_10_9_x86_64.whl (8.9 MB)\n",
      "\u001b[2K     \u001b[90m━━━━━━━━━━━━━━━━━━━━━━━━━━━━━━━━━━━━━━━━\u001b[0m \u001b[32m8.9/8.9 MB\u001b[0m \u001b[31m1.0 MB/s\u001b[0m eta \u001b[36m0:00:00\u001b[0m00:01\u001b[0m00:01\u001b[0m0m\n",
      "\u001b[?25hInstalling collected packages: pygame\n",
      "Successfully installed pygame-2.1.2\n",
      "Note: you may need to restart the kernel to use updated packages.\n"
     ]
    }
   ],
   "source": [
    "pip install pygame"
   ]
  },
  {
   "cell_type": "code",
   "execution_count": 1,
   "id": "42c178c7",
   "metadata": {},
   "outputs": [
    {
     "name": "stdout",
     "output_type": "stream",
     "text": [
      "pygame 2.1.2 (SDL 2.0.18, Python 3.9.13)\n",
      "Hello from the pygame community. https://www.pygame.org/contribute.html\n"
     ]
    }
   ],
   "source": [
    "import pygame\n",
    "from pygame.locals import *"
   ]
  },
  {
   "cell_type": "code",
   "execution_count": 2,
   "id": "832d50bf",
   "metadata": {},
   "outputs": [],
   "source": [
    "# Create the features of the game board\n",
    "\n",
    "Board_width = 3  # number of columns in the board\n",
    "Board_height = 3 # number of rows in the board\n",
    "Tile_size = 100\n",
    "Window_width = 480\n",
    "Window_height = 480\n",
    "FPS = 30  # Frames per second\n",
    "Blank = None\n",
    "\n",
    "# Color of the game board\n",
    "\n",
    "#                  R    G    B\n",
    "Black =          (  0,   0,   0)\n",
    "White =          (255, 255, 255)\n",
    "Green =          (  0, 204,  0)\n",
    "Burlywood =      (222, 184, 135)\n",
    "Burlywood_4 =    (139, 115,  85)\n",
    "\n",
    "Background_color = Burlywood\n",
    "Tile_color = Burlywood_4\n",
    "Text_color = Black\n",
    "Border_color = Burlywood_4\n",
    "Font_size = 20\n",
    "\n",
    "Button_color = Black\n",
    "Button_text_color = Black\n",
    "Message_color = Black"
   ]
  },
  {
   "cell_type": "code",
   "execution_count": 3,
   "id": "fbc9da8d",
   "metadata": {},
   "outputs": [],
   "source": [
    "Blank = 10\n",
    "Player_O = 11\n",
    "Player_X = 21\n",
    "\n",
    "\n",
    "Player_O_win = Player_O * 3\n",
    "Player_X_win = Player_X * 3\n",
    "\n",
    "Continue_Game  = 10\n",
    "Draw_Game      = 20\n",
    "Quit_Game      = 30\n",
    "\n",
    "X_margin = int((Window_width - (Tile_size * Board_width + (Board_width - 1))) / 2)\n",
    "Y_margin = int((Window_height - (Tile_size * Board_height + (Board_height - 1))) / 2)\n",
    "\n",
    "choice = 0"
   ]
  },
  {
   "cell_type": "code",
   "execution_count": 4,
   "id": "d8b06b87",
   "metadata": {},
   "outputs": [],
   "source": [
    "# Check possiblities of winning in the game\n",
    "\n",
    "def Check_Winner(board):\n",
    "    def Check_Draw():\n",
    "        return sum(board)%10 == 9\n",
    "\n",
    "    def check_horizontal(player):   # Horizontal Win\n",
    "        for i in [0, 3, 6]:\n",
    "            if sum(board[i:i+3]) == 3 * player:\n",
    "                return player\n",
    "\n",
    "    def check_vertical(player):   # Vertical Win\n",
    "        for i in range(3):\n",
    "            if sum(board[i::3]) == 3 * player:\n",
    "                return player\n",
    "\n",
    "    def check_diagonals(player):   # Main Diagonal Win\n",
    "        if (sum(board[0::4]) == 3 * player) or (sum(board[2:7:2]) == 3 * player):\n",
    "            return player\n",
    "\n",
    "    for player in [Player_X, Player_O]:\n",
    "        if any([check_horizontal(player), check_vertical(player), check_diagonals(player)]):\n",
    "            return player\n",
    "\n",
    "    return Draw_Game if Check_Draw() else Continue_Game"
   ]
  },
  {
   "cell_type": "code",
   "execution_count": 5,
   "id": "72c7369a",
   "metadata": {},
   "outputs": [],
   "source": [
    "def unit_score(winner, depth):\n",
    "    if winner == Draw_Game:\n",
    "        return 0\n",
    "    else:\n",
    "        return 10 - depth if winner == Player_X else depth - 10"
   ]
  },
  {
   "cell_type": "code",
   "execution_count": 6,
   "id": "9c0533ad",
   "metadata": {},
   "outputs": [],
   "source": [
    "# Get available moves on the game board\n",
    "\n",
    "def get_available_move(board):\n",
    "    return [i for i in range(9) if board[i] == Blank]"
   ]
  },
  {
   "cell_type": "code",
   "execution_count": 7,
   "id": "93250426",
   "metadata": {},
   "outputs": [],
   "source": [
    "# Minimax Algorithm used for this game\n",
    "\n",
    "def minimax(board, depth):\n",
    "    global choice\n",
    "    result = Check_Winner(board)\n",
    "    if result != Continue_Game:\n",
    "        return unit_score(result, depth)\n",
    "\n",
    "    depth += 1  # index of the node in the game tree\n",
    "    scores = []   # an array of scores\n",
    "    steps = []   # an array of moves(steps)\n",
    "\n",
    "    for step in get_available_move(board):\n",
    "        score = minimax(update_state(board, step, depth), depth)\n",
    "        scores.append(score)\n",
    "        steps.append(step)\n",
    "\n",
    "    if depth % 2 == 1:\n",
    "        max_value_index = scores.index(max(scores))\n",
    "        choice = steps[max_value_index]\n",
    "        return max(scores)\n",
    "    else:\n",
    "        min_value_index = scores.index(min(scores))\n",
    "        choice = steps[min_value_index]\n",
    "        return min(scores)"
   ]
  },
  {
   "cell_type": "code",
   "execution_count": 8,
   "id": "aa0dc8ed",
   "metadata": {},
   "outputs": [],
   "source": [
    "def update_state(board, step, depth):   \n",
    "    board = list(board)\n",
    "    board[step] = Player_X if depth % 2 else Player_O\n",
    "    return board\n",
    "\n",
    "def update_board(board, step, player):\n",
    "    board[step] = player"
   ]
  },
  {
   "cell_type": "code",
   "execution_count": 9,
   "id": "658a3de6",
   "metadata": {},
   "outputs": [],
   "source": [
    "# Assigining X and O to both the players by checking which player is playing\n",
    "\n",
    "def change_to_player(player):\n",
    "    if player == Player_O:\n",
    "        return 'O'\n",
    "    elif player == Player_X:\n",
    "        return 'X'\n",
    "    elif player == Blank:\n",
    "        return '-'"
   ]
  },
  {
   "cell_type": "code",
   "execution_count": 10,
   "id": "552059ed",
   "metadata": {},
   "outputs": [],
   "source": [
    "# Drawing the game board using defined features\n",
    "\n",
    "def Draw_Board(board, message):\n",
    "    displaySurf.fill(Background_color)\n",
    "    if message:\n",
    "        textSurf, textRect = makeText(message, Message_color, Background_color, 5, 5)\n",
    "        displaySurf.blit(textSurf, textRect)\n",
    "\n",
    "    for tile_x in range(3):\n",
    "        for tile_y in range(3):\n",
    "            if board[tile_x*3+tile_y] != Blank:\n",
    "                drawTile(tile_x, tile_y, board[tile_x*3+tile_y])\n",
    "\n",
    "    left, top = get_Left_Top_Of_Tile(0, 0)\n",
    "    width = Board_width * Tile_size\n",
    "    height = Board_height * Tile_size\n",
    "    pygame.draw.rect(displaySurf, Border_color, (left - 5, top - 5, width + 11, height + 11), 4)\n",
    "\n",
    "    displaySurf.blit(New_surf, New_rect)\n",
    "    displaySurf.blit(New_surf2, New_rect2)"
   ]
  },
  {
   "cell_type": "code",
   "execution_count": 11,
   "id": "fae99189",
   "metadata": {},
   "outputs": [],
   "source": [
    "# Converting board coordinates to pixel coordinates\n",
    "\n",
    "def get_Left_Top_Of_Tile(tile_X, tile_Y):\n",
    "    left = X_margin + (tile_X * Tile_size) + (tile_X - 1)\n",
    "    top = Y_margin + (tile_Y * Tile_size) + (tile_Y - 1)\n",
    "    return (left, top)"
   ]
  },
  {
   "cell_type": "code",
   "execution_count": 12,
   "id": "437df851",
   "metadata": {},
   "outputs": [],
   "source": [
    "# Making Text Appear on the Screen\n",
    "\n",
    "def makeText(text, color, bgcolor, top, left):\n",
    "    textSurf = Basic_font.render(text, True, color, bgcolor)\n",
    "    textRect = textSurf.get_rect()\n",
    "    textRect.topleft = (top, left)\n",
    "    return (textSurf, textRect)"
   ]
  },
  {
   "cell_type": "code",
   "execution_count": 13,
   "id": "93df7a32",
   "metadata": {},
   "outputs": [],
   "source": [
    "# Draw a tile at board coordinates.\n",
    "\n",
    "def drawTile(tile_x, tile_y, symbol, adj_x=0, adj_y=0):\n",
    "    left, top = get_Left_Top_Of_Tile(tile_x, tile_y)\n",
    "    pygame.draw.rect(displaySurf, Tile_color, (left + adj_x, top + adj_y, Tile_size, Tile_size))\n",
    "    textSurf = Basic_font.render(symbol_to_str(symbol), True, Text_color)\n",
    "    textRect = textSurf.get_rect()\n",
    "    textRect.center = left + int(Tile_size / 2) + adj_x, top + int(Tile_size / 2) + adj_y\n",
    "    displaySurf.blit(textSurf, textRect)"
   ]
  },
  {
   "cell_type": "code",
   "execution_count": 14,
   "id": "79a11c74",
   "metadata": {},
   "outputs": [],
   "source": [
    "def symbol_to_str(symbol):\n",
    "    if symbol == Player_O:\n",
    "        return 'O'\n",
    "    elif symbol == Player_X:\n",
    "        return 'X'"
   ]
  },
  {
   "cell_type": "code",
   "execution_count": 15,
   "id": "f831aced",
   "metadata": {},
   "outputs": [],
   "source": [
    "# Converting from Pixel Coordinates to Board Coordinates\n",
    "\n",
    "def get_spot_clicked(x, y):\n",
    "    for tile_X in range(3):\n",
    "        for tile_Y in range(3):\n",
    "            left, top = get_Left_Top_Of_Tile(tile_X, tile_Y)\n",
    "            tileRect = pygame.Rect(left, top, Tile_size, Tile_size)\n",
    "            if tileRect.collidepoint(x, y):\n",
    "                return (tile_X, tile_Y)\n",
    "    return None"
   ]
  },
  {
   "cell_type": "code",
   "execution_count": 16,
   "id": "6953c687",
   "metadata": {},
   "outputs": [],
   "source": [
    "def board_to_step(spot_x, spot_y):\n",
    "    return spot_x * 3 + spot_y"
   ]
  },
  {
   "cell_type": "code",
   "execution_count": 17,
   "id": "de2a7d75",
   "metadata": {},
   "outputs": [],
   "source": [
    "def check_valid_move(coords, board):\n",
    "    step = board_to_step(*coords)\n",
    "    return board[step] == Blank"
   ]
  },
  {
   "cell_type": "code",
   "execution_count": 18,
   "id": "f2fd8763",
   "metadata": {},
   "outputs": [],
   "source": [
    "# Diplaying the final game\n",
    "\n",
    "def main():\n",
    "    global FPS_clock, displaySurf, Basic_font, New_surf, New_rect, New_surf2, New_rect2\n",
    "    two_player = False #by default false\n",
    "    pygame.init()\n",
    "    FPS_clock = pygame.time.Clock()\n",
    "    displaySurf = pygame.display.set_mode((Window_width, Window_height))\n",
    "    pygame.display.set_caption('Tic Tac Toe')\n",
    "    Basic_font = pygame.font.Font('freesansbold.ttf', Font_size)\n",
    "    New_surf, New_rect = makeText('vs AI', Text_color, Tile_color, Window_width - 120, Window_height - 60)\n",
    "    New_surf2, New_rect2 = makeText('vs Human', Text_color, Tile_color, Window_width - 240, Window_height - 60)\n",
    "    board = [Blank] * 9\n",
    "    game_over = False\n",
    "    x_turn = True\n",
    "    msg = \"Welcome to this game\"   # Contains the message to show in the upper left corner.\n",
    "    Draw_Board(board, msg)\n",
    "    pygame.display.update()   # pygame.display.update() is called to draw the display Surface object on the actual computer screen\n",
    "\n",
    "    while True:\n",
    "        coords = None\n",
    "        for event in pygame.event.get():   # event handling loop\n",
    "            if event.type == MOUSEBUTTONUP:   # If the type of event was a MOUSEBUTTONUP event (that is, the player had released a mouse button somewhere over the window), then we pass the mouse coordinates to our getSpotClicked() function which will return the board coordinates of the spot on the board the mouse release happened. The event.pos[0] is the X coordinate and event.pos[1] is the Y coordinate.\n",
    "                coords = get_spot_clicked(event.pos[0], event.pos[1])\n",
    "                if not coords and New_rect.collidepoint(event.pos):\n",
    "                    board = [Blank] * 9\n",
    "                    game_over = False\n",
    "                    msg = \"Welcome to this game\"\n",
    "                    Draw_Board(board, msg)\n",
    "                    pygame.display.update()\n",
    "                    two_player = False\n",
    "                if not coords and New_rect2.collidepoint(event.pos):\n",
    "                    board = [Blank] * 9\n",
    "                    game_over = False\n",
    "                    msg = \"Welcome to this game\"\n",
    "                    Draw_Board(board, msg)\n",
    "                    pygame.display.update()\n",
    "                    two_player = True\n",
    "        if coords and check_valid_move(coords, board) and not game_over:\n",
    "            if two_player:\n",
    "                next_step = board_to_step(*coords)\n",
    "                if x_turn:\n",
    "                    update_board(board, next_step, Player_X)\n",
    "                    x_turn = False\n",
    "                else:\n",
    "                    update_board(board, next_step, Player_O)\n",
    "                    x_turn = True\n",
    "                Draw_Board(board, msg)\n",
    "                pygame.display.update()\n",
    "\n",
    "            if not two_player:\n",
    "                next_step = board_to_step(*coords)\n",
    "                update_board(board, next_step, Player_X)\n",
    "                Draw_Board(board, msg)\n",
    "                pygame.display.update()\n",
    "                minimax(board, 0)\n",
    "                update_board(board, choice, Player_O)\n",
    "\n",
    "            result = Check_Winner(board)\n",
    "            game_over = (result != Continue_Game)\n",
    "\n",
    "            if result == Player_X:\n",
    "                msg = \"The winner of this game is X\"\n",
    "            elif result == Player_O:\n",
    "                msg = \"The winner of this game is O\"\n",
    "            elif result == Draw_Game:\n",
    "                msg = \"Draw Game\"\n",
    "\n",
    "            Draw_Board(board, msg)\n",
    "            pygame.display.update()"
   ]
  },
  {
   "cell_type": "code",
   "execution_count": null,
   "id": "65826065",
   "metadata": {},
   "outputs": [],
   "source": [
    "# Start playing the game by calling main() function\n",
    "\n",
    "if __name__ == '__main__':\n",
    "    main()"
   ]
  },
  {
   "cell_type": "code",
   "execution_count": null,
   "id": "4c2cf1ff",
   "metadata": {},
   "outputs": [],
   "source": []
  },
  {
   "cell_type": "code",
   "execution_count": null,
   "id": "ade4967a",
   "metadata": {},
   "outputs": [],
   "source": []
  },
  {
   "cell_type": "code",
   "execution_count": null,
   "id": "e69a85b1",
   "metadata": {},
   "outputs": [],
   "source": []
  }
 ],
 "metadata": {
  "kernelspec": {
   "display_name": "Python 3 (ipykernel)",
   "language": "python",
   "name": "python3"
  },
  "language_info": {
   "codemirror_mode": {
    "name": "ipython",
    "version": 3
   },
   "file_extension": ".py",
   "mimetype": "text/x-python",
   "name": "python",
   "nbconvert_exporter": "python",
   "pygments_lexer": "ipython3",
   "version": "3.9.13"
  }
 },
 "nbformat": 4,
 "nbformat_minor": 5
}
